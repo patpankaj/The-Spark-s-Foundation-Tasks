{
 "cells": [
  {
   "cell_type": "markdown",
   "id": "fb548bb8",
   "metadata": {},
   "source": [
    "##  Author : Pankaj Patil\n",
    "\n"
   ]
  },
  {
   "cell_type": "markdown",
   "id": "b470195b",
   "metadata": {},
   "source": [
    "### Task 2 : Prediction using Unsupervised Machine Learning"
   ]
  },
  {
   "cell_type": "markdown",
   "id": "c8833a75",
   "metadata": {},
   "source": [
    "### GRIP @ The Sparks Foundation Sept 2021"
   ]
  },
  {
   "cell_type": "markdown",
   "id": "0dbc9f5c",
   "metadata": {},
   "source": [
    "## Domian :- Data Science and Buiseness Analytics"
   ]
  },
  {
   "cell_type": "markdown",
   "id": "df2014eb",
   "metadata": {},
   "source": [
    "#  Import All The Required Libaries"
   ]
  },
  {
   "cell_type": "code",
   "execution_count": 1,
   "id": "4ce90d99",
   "metadata": {},
   "outputs": [],
   "source": [
    "# import all the required libaries\n",
    "import numpy as np\n",
    "import pandas as pd\n",
    "import matplotlib.pyplot as plt\n",
    "%matplotlib inline\n",
    "import seaborn as sns\n",
    "from mpl_toolkits.mplot3d import Axes3D\n",
    "import matplotlib.patches as mpatches"
   ]
  },
  {
   "cell_type": "markdown",
   "id": "af3a15c8",
   "metadata": {},
   "source": [
    "###  Loading Data Set"
   ]
  },
  {
   "cell_type": "code",
   "execution_count": 2,
   "id": "505555b5",
   "metadata": {},
   "outputs": [
    {
     "data": {
      "text/html": [
       "<div>\n",
       "<style scoped>\n",
       "    .dataframe tbody tr th:only-of-type {\n",
       "        vertical-align: middle;\n",
       "    }\n",
       "\n",
       "    .dataframe tbody tr th {\n",
       "        vertical-align: top;\n",
       "    }\n",
       "\n",
       "    .dataframe thead th {\n",
       "        text-align: right;\n",
       "    }\n",
       "</style>\n",
       "<table border=\"1\" class=\"dataframe\">\n",
       "  <thead>\n",
       "    <tr style=\"text-align: right;\">\n",
       "      <th></th>\n",
       "      <th>Id</th>\n",
       "      <th>SepalLengthCm</th>\n",
       "      <th>SepalWidthCm</th>\n",
       "      <th>PetalLengthCm</th>\n",
       "      <th>PetalWidthCm</th>\n",
       "      <th>Species</th>\n",
       "    </tr>\n",
       "  </thead>\n",
       "  <tbody>\n",
       "    <tr>\n",
       "      <th>0</th>\n",
       "      <td>1</td>\n",
       "      <td>5.1</td>\n",
       "      <td>3.5</td>\n",
       "      <td>1.4</td>\n",
       "      <td>0.2</td>\n",
       "      <td>Iris-setosa</td>\n",
       "    </tr>\n",
       "    <tr>\n",
       "      <th>1</th>\n",
       "      <td>2</td>\n",
       "      <td>4.9</td>\n",
       "      <td>3.0</td>\n",
       "      <td>1.4</td>\n",
       "      <td>0.2</td>\n",
       "      <td>Iris-setosa</td>\n",
       "    </tr>\n",
       "    <tr>\n",
       "      <th>2</th>\n",
       "      <td>3</td>\n",
       "      <td>4.7</td>\n",
       "      <td>3.2</td>\n",
       "      <td>1.3</td>\n",
       "      <td>0.2</td>\n",
       "      <td>Iris-setosa</td>\n",
       "    </tr>\n",
       "    <tr>\n",
       "      <th>3</th>\n",
       "      <td>4</td>\n",
       "      <td>4.6</td>\n",
       "      <td>3.1</td>\n",
       "      <td>1.5</td>\n",
       "      <td>0.2</td>\n",
       "      <td>Iris-setosa</td>\n",
       "    </tr>\n",
       "    <tr>\n",
       "      <th>4</th>\n",
       "      <td>5</td>\n",
       "      <td>5.0</td>\n",
       "      <td>3.6</td>\n",
       "      <td>1.4</td>\n",
       "      <td>0.2</td>\n",
       "      <td>Iris-setosa</td>\n",
       "    </tr>\n",
       "  </tbody>\n",
       "</table>\n",
       "</div>"
      ],
      "text/plain": [
       "   Id  SepalLengthCm  SepalWidthCm  PetalLengthCm  PetalWidthCm      Species\n",
       "0   1            5.1           3.5            1.4           0.2  Iris-setosa\n",
       "1   2            4.9           3.0            1.4           0.2  Iris-setosa\n",
       "2   3            4.7           3.2            1.3           0.2  Iris-setosa\n",
       "3   4            4.6           3.1            1.5           0.2  Iris-setosa\n",
       "4   5            5.0           3.6            1.4           0.2  Iris-setosa"
      ]
     },
     "execution_count": 2,
     "metadata": {},
     "output_type": "execute_result"
    }
   ],
   "source": [
    "df = pd.read_csv('Iris.csv')\n",
    "df.head()"
   ]
  },
  {
   "cell_type": "code",
   "execution_count": 3,
   "id": "f29cf69f",
   "metadata": {
    "scrolled": true
   },
   "outputs": [
    {
     "name": "stdout",
     "output_type": "stream",
     "text": [
      "<class 'pandas.core.frame.DataFrame'>\n",
      "RangeIndex: 150 entries, 0 to 149\n",
      "Data columns (total 6 columns):\n",
      " #   Column         Non-Null Count  Dtype  \n",
      "---  ------         --------------  -----  \n",
      " 0   Id             150 non-null    int64  \n",
      " 1   SepalLengthCm  150 non-null    float64\n",
      " 2   SepalWidthCm   150 non-null    float64\n",
      " 3   PetalLengthCm  150 non-null    float64\n",
      " 4   PetalWidthCm   150 non-null    float64\n",
      " 5   Species        150 non-null    object \n",
      "dtypes: float64(4), int64(1), object(1)\n",
      "memory usage: 7.2+ KB\n"
     ]
    }
   ],
   "source": [
    "# To check the info of all data set\n",
    "df.info()"
   ]
  },
  {
   "cell_type": "markdown",
   "id": "70ae2a0f",
   "metadata": {},
   "source": [
    "Statistical summary for numeric data include things like the mean, min, and max of the data, can be useful to get a feel for how large some of the variables are and what variables may be the most important."
   ]
  },
  {
   "cell_type": "code",
   "execution_count": 5,
   "id": "dcd478f3",
   "metadata": {
    "scrolled": false
   },
   "outputs": [
    {
     "data": {
      "text/html": [
       "<div>\n",
       "<style scoped>\n",
       "    .dataframe tbody tr th:only-of-type {\n",
       "        vertical-align: middle;\n",
       "    }\n",
       "\n",
       "    .dataframe tbody tr th {\n",
       "        vertical-align: top;\n",
       "    }\n",
       "\n",
       "    .dataframe thead th {\n",
       "        text-align: right;\n",
       "    }\n",
       "</style>\n",
       "<table border=\"1\" class=\"dataframe\">\n",
       "  <thead>\n",
       "    <tr style=\"text-align: right;\">\n",
       "      <th></th>\n",
       "      <th>count</th>\n",
       "      <th>mean</th>\n",
       "      <th>std</th>\n",
       "      <th>min</th>\n",
       "      <th>25%</th>\n",
       "      <th>50%</th>\n",
       "      <th>75%</th>\n",
       "      <th>max</th>\n",
       "    </tr>\n",
       "  </thead>\n",
       "  <tbody>\n",
       "    <tr>\n",
       "      <th>Id</th>\n",
       "      <td>150.0</td>\n",
       "      <td>75.500000</td>\n",
       "      <td>43.445368</td>\n",
       "      <td>1.0</td>\n",
       "      <td>38.25</td>\n",
       "      <td>75.50</td>\n",
       "      <td>112.75</td>\n",
       "      <td>150.0</td>\n",
       "    </tr>\n",
       "    <tr>\n",
       "      <th>SepalLengthCm</th>\n",
       "      <td>150.0</td>\n",
       "      <td>5.843333</td>\n",
       "      <td>0.828066</td>\n",
       "      <td>4.3</td>\n",
       "      <td>5.10</td>\n",
       "      <td>5.80</td>\n",
       "      <td>6.40</td>\n",
       "      <td>7.9</td>\n",
       "    </tr>\n",
       "    <tr>\n",
       "      <th>SepalWidthCm</th>\n",
       "      <td>150.0</td>\n",
       "      <td>3.054000</td>\n",
       "      <td>0.433594</td>\n",
       "      <td>2.0</td>\n",
       "      <td>2.80</td>\n",
       "      <td>3.00</td>\n",
       "      <td>3.30</td>\n",
       "      <td>4.4</td>\n",
       "    </tr>\n",
       "    <tr>\n",
       "      <th>PetalLengthCm</th>\n",
       "      <td>150.0</td>\n",
       "      <td>3.758667</td>\n",
       "      <td>1.764420</td>\n",
       "      <td>1.0</td>\n",
       "      <td>1.60</td>\n",
       "      <td>4.35</td>\n",
       "      <td>5.10</td>\n",
       "      <td>6.9</td>\n",
       "    </tr>\n",
       "    <tr>\n",
       "      <th>PetalWidthCm</th>\n",
       "      <td>150.0</td>\n",
       "      <td>1.198667</td>\n",
       "      <td>0.763161</td>\n",
       "      <td>0.1</td>\n",
       "      <td>0.30</td>\n",
       "      <td>1.30</td>\n",
       "      <td>1.80</td>\n",
       "      <td>2.5</td>\n",
       "    </tr>\n",
       "  </tbody>\n",
       "</table>\n",
       "</div>"
      ],
      "text/plain": [
       "               count       mean        std  min    25%    50%     75%    max\n",
       "Id             150.0  75.500000  43.445368  1.0  38.25  75.50  112.75  150.0\n",
       "SepalLengthCm  150.0   5.843333   0.828066  4.3   5.10   5.80    6.40    7.9\n",
       "SepalWidthCm   150.0   3.054000   0.433594  2.0   2.80   3.00    3.30    4.4\n",
       "PetalLengthCm  150.0   3.758667   1.764420  1.0   1.60   4.35    5.10    6.9\n",
       "PetalWidthCm   150.0   1.198667   0.763161  0.1   0.30   1.30    1.80    2.5"
      ]
     },
     "execution_count": 5,
     "metadata": {},
     "output_type": "execute_result"
    }
   ],
   "source": [
    "df.describe().T"
   ]
  },
  {
   "cell_type": "code",
   "execution_count": 6,
   "id": "bc10267f",
   "metadata": {},
   "outputs": [
    {
     "data": {
      "text/html": [
       "<div>\n",
       "<style scoped>\n",
       "    .dataframe tbody tr th:only-of-type {\n",
       "        vertical-align: middle;\n",
       "    }\n",
       "\n",
       "    .dataframe tbody tr th {\n",
       "        vertical-align: top;\n",
       "    }\n",
       "\n",
       "    .dataframe thead th {\n",
       "        text-align: right;\n",
       "    }\n",
       "</style>\n",
       "<table border=\"1\" class=\"dataframe\">\n",
       "  <thead>\n",
       "    <tr style=\"text-align: right;\">\n",
       "      <th></th>\n",
       "      <th>Id</th>\n",
       "      <th>SepalLengthCm</th>\n",
       "      <th>SepalWidthCm</th>\n",
       "      <th>PetalLengthCm</th>\n",
       "      <th>PetalWidthCm</th>\n",
       "    </tr>\n",
       "  </thead>\n",
       "  <tbody>\n",
       "    <tr>\n",
       "      <th>Id</th>\n",
       "      <td>1.000000</td>\n",
       "      <td>0.716676</td>\n",
       "      <td>-0.397729</td>\n",
       "      <td>0.882747</td>\n",
       "      <td>0.899759</td>\n",
       "    </tr>\n",
       "    <tr>\n",
       "      <th>SepalLengthCm</th>\n",
       "      <td>0.716676</td>\n",
       "      <td>1.000000</td>\n",
       "      <td>-0.109369</td>\n",
       "      <td>0.871754</td>\n",
       "      <td>0.817954</td>\n",
       "    </tr>\n",
       "    <tr>\n",
       "      <th>SepalWidthCm</th>\n",
       "      <td>-0.397729</td>\n",
       "      <td>-0.109369</td>\n",
       "      <td>1.000000</td>\n",
       "      <td>-0.420516</td>\n",
       "      <td>-0.356544</td>\n",
       "    </tr>\n",
       "    <tr>\n",
       "      <th>PetalLengthCm</th>\n",
       "      <td>0.882747</td>\n",
       "      <td>0.871754</td>\n",
       "      <td>-0.420516</td>\n",
       "      <td>1.000000</td>\n",
       "      <td>0.962757</td>\n",
       "    </tr>\n",
       "    <tr>\n",
       "      <th>PetalWidthCm</th>\n",
       "      <td>0.899759</td>\n",
       "      <td>0.817954</td>\n",
       "      <td>-0.356544</td>\n",
       "      <td>0.962757</td>\n",
       "      <td>1.000000</td>\n",
       "    </tr>\n",
       "  </tbody>\n",
       "</table>\n",
       "</div>"
      ],
      "text/plain": [
       "                     Id  SepalLengthCm  SepalWidthCm  PetalLengthCm  \\\n",
       "Id             1.000000       0.716676     -0.397729       0.882747   \n",
       "SepalLengthCm  0.716676       1.000000     -0.109369       0.871754   \n",
       "SepalWidthCm  -0.397729      -0.109369      1.000000      -0.420516   \n",
       "PetalLengthCm  0.882747       0.871754     -0.420516       1.000000   \n",
       "PetalWidthCm   0.899759       0.817954     -0.356544       0.962757   \n",
       "\n",
       "               PetalWidthCm  \n",
       "Id                 0.899759  \n",
       "SepalLengthCm      0.817954  \n",
       "SepalWidthCm      -0.356544  \n",
       "PetalLengthCm      0.962757  \n",
       "PetalWidthCm       1.000000  "
      ]
     },
     "execution_count": 6,
     "metadata": {},
     "output_type": "execute_result"
    }
   ],
   "source": [
    "# To check the correlation between the features\n",
    "df.corr()"
   ]
  },
  {
   "cell_type": "code",
   "execution_count": 7,
   "id": "deac3b23",
   "metadata": {},
   "outputs": [],
   "source": [
    "df1 = df.drop(columns = 'Id',axis = 1)"
   ]
  },
  {
   "cell_type": "code",
   "execution_count": 8,
   "id": "69d1ccf3",
   "metadata": {},
   "outputs": [
    {
     "data": {
      "text/html": [
       "<div>\n",
       "<style scoped>\n",
       "    .dataframe tbody tr th:only-of-type {\n",
       "        vertical-align: middle;\n",
       "    }\n",
       "\n",
       "    .dataframe tbody tr th {\n",
       "        vertical-align: top;\n",
       "    }\n",
       "\n",
       "    .dataframe thead th {\n",
       "        text-align: right;\n",
       "    }\n",
       "</style>\n",
       "<table border=\"1\" class=\"dataframe\">\n",
       "  <thead>\n",
       "    <tr style=\"text-align: right;\">\n",
       "      <th></th>\n",
       "      <th>SepalLengthCm</th>\n",
       "      <th>SepalWidthCm</th>\n",
       "      <th>PetalLengthCm</th>\n",
       "      <th>PetalWidthCm</th>\n",
       "      <th>Species</th>\n",
       "    </tr>\n",
       "  </thead>\n",
       "  <tbody>\n",
       "    <tr>\n",
       "      <th>0</th>\n",
       "      <td>5.1</td>\n",
       "      <td>3.5</td>\n",
       "      <td>1.4</td>\n",
       "      <td>0.2</td>\n",
       "      <td>Iris-setosa</td>\n",
       "    </tr>\n",
       "    <tr>\n",
       "      <th>1</th>\n",
       "      <td>4.9</td>\n",
       "      <td>3.0</td>\n",
       "      <td>1.4</td>\n",
       "      <td>0.2</td>\n",
       "      <td>Iris-setosa</td>\n",
       "    </tr>\n",
       "    <tr>\n",
       "      <th>2</th>\n",
       "      <td>4.7</td>\n",
       "      <td>3.2</td>\n",
       "      <td>1.3</td>\n",
       "      <td>0.2</td>\n",
       "      <td>Iris-setosa</td>\n",
       "    </tr>\n",
       "    <tr>\n",
       "      <th>3</th>\n",
       "      <td>4.6</td>\n",
       "      <td>3.1</td>\n",
       "      <td>1.5</td>\n",
       "      <td>0.2</td>\n",
       "      <td>Iris-setosa</td>\n",
       "    </tr>\n",
       "    <tr>\n",
       "      <th>4</th>\n",
       "      <td>5.0</td>\n",
       "      <td>3.6</td>\n",
       "      <td>1.4</td>\n",
       "      <td>0.2</td>\n",
       "      <td>Iris-setosa</td>\n",
       "    </tr>\n",
       "  </tbody>\n",
       "</table>\n",
       "</div>"
      ],
      "text/plain": [
       "   SepalLengthCm  SepalWidthCm  PetalLengthCm  PetalWidthCm      Species\n",
       "0            5.1           3.5            1.4           0.2  Iris-setosa\n",
       "1            4.9           3.0            1.4           0.2  Iris-setosa\n",
       "2            4.7           3.2            1.3           0.2  Iris-setosa\n",
       "3            4.6           3.1            1.5           0.2  Iris-setosa\n",
       "4            5.0           3.6            1.4           0.2  Iris-setosa"
      ]
     },
     "execution_count": 8,
     "metadata": {},
     "output_type": "execute_result"
    }
   ],
   "source": [
    "df1.head()"
   ]
  },
  {
   "cell_type": "code",
   "execution_count": 9,
   "id": "4086039d",
   "metadata": {},
   "outputs": [
    {
     "data": {
      "text/plain": [
       "array(['Iris-setosa', 'Iris-versicolor', 'Iris-virginica'], dtype=object)"
      ]
     },
     "execution_count": 9,
     "metadata": {},
     "output_type": "execute_result"
    }
   ],
   "source": [
    "df['Species'].unique()"
   ]
  },
  {
   "cell_type": "markdown",
   "id": "766aeedf",
   "metadata": {},
   "source": [
    "## To Covert Categirial Data int numeric Variables"
   ]
  },
  {
   "cell_type": "code",
   "execution_count": 10,
   "id": "f1a5dadb",
   "metadata": {},
   "outputs": [],
   "source": [
    "feature = pd.factorize(df['Species'])\n",
    "df1['Species'] = feature[0]"
   ]
  },
  {
   "cell_type": "code",
   "execution_count": 11,
   "id": "665a21d7",
   "metadata": {},
   "outputs": [
    {
     "data": {
      "text/html": [
       "<div>\n",
       "<style scoped>\n",
       "    .dataframe tbody tr th:only-of-type {\n",
       "        vertical-align: middle;\n",
       "    }\n",
       "\n",
       "    .dataframe tbody tr th {\n",
       "        vertical-align: top;\n",
       "    }\n",
       "\n",
       "    .dataframe thead th {\n",
       "        text-align: right;\n",
       "    }\n",
       "</style>\n",
       "<table border=\"1\" class=\"dataframe\">\n",
       "  <thead>\n",
       "    <tr style=\"text-align: right;\">\n",
       "      <th></th>\n",
       "      <th>SepalLengthCm</th>\n",
       "      <th>SepalWidthCm</th>\n",
       "      <th>PetalLengthCm</th>\n",
       "      <th>PetalWidthCm</th>\n",
       "      <th>Species</th>\n",
       "    </tr>\n",
       "  </thead>\n",
       "  <tbody>\n",
       "    <tr>\n",
       "      <th>0</th>\n",
       "      <td>5.1</td>\n",
       "      <td>3.5</td>\n",
       "      <td>1.4</td>\n",
       "      <td>0.2</td>\n",
       "      <td>0</td>\n",
       "    </tr>\n",
       "    <tr>\n",
       "      <th>1</th>\n",
       "      <td>4.9</td>\n",
       "      <td>3.0</td>\n",
       "      <td>1.4</td>\n",
       "      <td>0.2</td>\n",
       "      <td>0</td>\n",
       "    </tr>\n",
       "    <tr>\n",
       "      <th>2</th>\n",
       "      <td>4.7</td>\n",
       "      <td>3.2</td>\n",
       "      <td>1.3</td>\n",
       "      <td>0.2</td>\n",
       "      <td>0</td>\n",
       "    </tr>\n",
       "    <tr>\n",
       "      <th>3</th>\n",
       "      <td>4.6</td>\n",
       "      <td>3.1</td>\n",
       "      <td>1.5</td>\n",
       "      <td>0.2</td>\n",
       "      <td>0</td>\n",
       "    </tr>\n",
       "    <tr>\n",
       "      <th>4</th>\n",
       "      <td>5.0</td>\n",
       "      <td>3.6</td>\n",
       "      <td>1.4</td>\n",
       "      <td>0.2</td>\n",
       "      <td>0</td>\n",
       "    </tr>\n",
       "  </tbody>\n",
       "</table>\n",
       "</div>"
      ],
      "text/plain": [
       "   SepalLengthCm  SepalWidthCm  PetalLengthCm  PetalWidthCm  Species\n",
       "0            5.1           3.5            1.4           0.2        0\n",
       "1            4.9           3.0            1.4           0.2        0\n",
       "2            4.7           3.2            1.3           0.2        0\n",
       "3            4.6           3.1            1.5           0.2        0\n",
       "4            5.0           3.6            1.4           0.2        0"
      ]
     },
     "execution_count": 11,
     "metadata": {},
     "output_type": "execute_result"
    }
   ],
   "source": [
    "df1.head()"
   ]
  },
  {
   "cell_type": "code",
   "execution_count": 12,
   "id": "4a5bd598",
   "metadata": {},
   "outputs": [
    {
     "data": {
      "text/plain": [
       "SepalLengthCm    0\n",
       "SepalWidthCm     0\n",
       "PetalLengthCm    0\n",
       "PetalWidthCm     0\n",
       "Species          0\n",
       "dtype: int64"
      ]
     },
     "execution_count": 12,
     "metadata": {},
     "output_type": "execute_result"
    }
   ],
   "source": [
    "# to check null value\n",
    "df1.isnull().sum()"
   ]
  },
  {
   "cell_type": "code",
   "execution_count": 13,
   "id": "f822c656",
   "metadata": {},
   "outputs": [
    {
     "data": {
      "text/plain": [
       "array([[5.1, 3.5, 1.4, 0.2],\n",
       "       [4.9, 3. , 1.4, 0.2],\n",
       "       [4.7, 3.2, 1.3, 0.2],\n",
       "       [4.6, 3.1, 1.5, 0.2],\n",
       "       [5. , 3.6, 1.4, 0.2],\n",
       "       [5.4, 3.9, 1.7, 0.4],\n",
       "       [4.6, 3.4, 1.4, 0.3],\n",
       "       [5. , 3.4, 1.5, 0.2],\n",
       "       [4.4, 2.9, 1.4, 0.2],\n",
       "       [4.9, 3.1, 1.5, 0.1],\n",
       "       [5.4, 3.7, 1.5, 0.2],\n",
       "       [4.8, 3.4, 1.6, 0.2],\n",
       "       [4.8, 3. , 1.4, 0.1],\n",
       "       [4.3, 3. , 1.1, 0.1],\n",
       "       [5.8, 4. , 1.2, 0.2],\n",
       "       [5.7, 4.4, 1.5, 0.4],\n",
       "       [5.4, 3.9, 1.3, 0.4],\n",
       "       [5.1, 3.5, 1.4, 0.3],\n",
       "       [5.7, 3.8, 1.7, 0.3],\n",
       "       [5.1, 3.8, 1.5, 0.3],\n",
       "       [5.4, 3.4, 1.7, 0.2],\n",
       "       [5.1, 3.7, 1.5, 0.4],\n",
       "       [4.6, 3.6, 1. , 0.2],\n",
       "       [5.1, 3.3, 1.7, 0.5],\n",
       "       [4.8, 3.4, 1.9, 0.2],\n",
       "       [5. , 3. , 1.6, 0.2],\n",
       "       [5. , 3.4, 1.6, 0.4],\n",
       "       [5.2, 3.5, 1.5, 0.2],\n",
       "       [5.2, 3.4, 1.4, 0.2],\n",
       "       [4.7, 3.2, 1.6, 0.2],\n",
       "       [4.8, 3.1, 1.6, 0.2],\n",
       "       [5.4, 3.4, 1.5, 0.4],\n",
       "       [5.2, 4.1, 1.5, 0.1],\n",
       "       [5.5, 4.2, 1.4, 0.2],\n",
       "       [4.9, 3.1, 1.5, 0.1],\n",
       "       [5. , 3.2, 1.2, 0.2],\n",
       "       [5.5, 3.5, 1.3, 0.2],\n",
       "       [4.9, 3.1, 1.5, 0.1],\n",
       "       [4.4, 3. , 1.3, 0.2],\n",
       "       [5.1, 3.4, 1.5, 0.2],\n",
       "       [5. , 3.5, 1.3, 0.3],\n",
       "       [4.5, 2.3, 1.3, 0.3],\n",
       "       [4.4, 3.2, 1.3, 0.2],\n",
       "       [5. , 3.5, 1.6, 0.6],\n",
       "       [5.1, 3.8, 1.9, 0.4],\n",
       "       [4.8, 3. , 1.4, 0.3],\n",
       "       [5.1, 3.8, 1.6, 0.2],\n",
       "       [4.6, 3.2, 1.4, 0.2],\n",
       "       [5.3, 3.7, 1.5, 0.2],\n",
       "       [5. , 3.3, 1.4, 0.2],\n",
       "       [7. , 3.2, 4.7, 1.4],\n",
       "       [6.4, 3.2, 4.5, 1.5],\n",
       "       [6.9, 3.1, 4.9, 1.5],\n",
       "       [5.5, 2.3, 4. , 1.3],\n",
       "       [6.5, 2.8, 4.6, 1.5],\n",
       "       [5.7, 2.8, 4.5, 1.3],\n",
       "       [6.3, 3.3, 4.7, 1.6],\n",
       "       [4.9, 2.4, 3.3, 1. ],\n",
       "       [6.6, 2.9, 4.6, 1.3],\n",
       "       [5.2, 2.7, 3.9, 1.4],\n",
       "       [5. , 2. , 3.5, 1. ],\n",
       "       [5.9, 3. , 4.2, 1.5],\n",
       "       [6. , 2.2, 4. , 1. ],\n",
       "       [6.1, 2.9, 4.7, 1.4],\n",
       "       [5.6, 2.9, 3.6, 1.3],\n",
       "       [6.7, 3.1, 4.4, 1.4],\n",
       "       [5.6, 3. , 4.5, 1.5],\n",
       "       [5.8, 2.7, 4.1, 1. ],\n",
       "       [6.2, 2.2, 4.5, 1.5],\n",
       "       [5.6, 2.5, 3.9, 1.1],\n",
       "       [5.9, 3.2, 4.8, 1.8],\n",
       "       [6.1, 2.8, 4. , 1.3],\n",
       "       [6.3, 2.5, 4.9, 1.5],\n",
       "       [6.1, 2.8, 4.7, 1.2],\n",
       "       [6.4, 2.9, 4.3, 1.3],\n",
       "       [6.6, 3. , 4.4, 1.4],\n",
       "       [6.8, 2.8, 4.8, 1.4],\n",
       "       [6.7, 3. , 5. , 1.7],\n",
       "       [6. , 2.9, 4.5, 1.5],\n",
       "       [5.7, 2.6, 3.5, 1. ],\n",
       "       [5.5, 2.4, 3.8, 1.1],\n",
       "       [5.5, 2.4, 3.7, 1. ],\n",
       "       [5.8, 2.7, 3.9, 1.2],\n",
       "       [6. , 2.7, 5.1, 1.6],\n",
       "       [5.4, 3. , 4.5, 1.5],\n",
       "       [6. , 3.4, 4.5, 1.6],\n",
       "       [6.7, 3.1, 4.7, 1.5],\n",
       "       [6.3, 2.3, 4.4, 1.3],\n",
       "       [5.6, 3. , 4.1, 1.3],\n",
       "       [5.5, 2.5, 4. , 1.3],\n",
       "       [5.5, 2.6, 4.4, 1.2],\n",
       "       [6.1, 3. , 4.6, 1.4],\n",
       "       [5.8, 2.6, 4. , 1.2],\n",
       "       [5. , 2.3, 3.3, 1. ],\n",
       "       [5.6, 2.7, 4.2, 1.3],\n",
       "       [5.7, 3. , 4.2, 1.2],\n",
       "       [5.7, 2.9, 4.2, 1.3],\n",
       "       [6.2, 2.9, 4.3, 1.3],\n",
       "       [5.1, 2.5, 3. , 1.1],\n",
       "       [5.7, 2.8, 4.1, 1.3],\n",
       "       [6.3, 3.3, 6. , 2.5],\n",
       "       [5.8, 2.7, 5.1, 1.9],\n",
       "       [7.1, 3. , 5.9, 2.1],\n",
       "       [6.3, 2.9, 5.6, 1.8],\n",
       "       [6.5, 3. , 5.8, 2.2],\n",
       "       [7.6, 3. , 6.6, 2.1],\n",
       "       [4.9, 2.5, 4.5, 1.7],\n",
       "       [7.3, 2.9, 6.3, 1.8],\n",
       "       [6.7, 2.5, 5.8, 1.8],\n",
       "       [7.2, 3.6, 6.1, 2.5],\n",
       "       [6.5, 3.2, 5.1, 2. ],\n",
       "       [6.4, 2.7, 5.3, 1.9],\n",
       "       [6.8, 3. , 5.5, 2.1],\n",
       "       [5.7, 2.5, 5. , 2. ],\n",
       "       [5.8, 2.8, 5.1, 2.4],\n",
       "       [6.4, 3.2, 5.3, 2.3],\n",
       "       [6.5, 3. , 5.5, 1.8],\n",
       "       [7.7, 3.8, 6.7, 2.2],\n",
       "       [7.7, 2.6, 6.9, 2.3],\n",
       "       [6. , 2.2, 5. , 1.5],\n",
       "       [6.9, 3.2, 5.7, 2.3],\n",
       "       [5.6, 2.8, 4.9, 2. ],\n",
       "       [7.7, 2.8, 6.7, 2. ],\n",
       "       [6.3, 2.7, 4.9, 1.8],\n",
       "       [6.7, 3.3, 5.7, 2.1],\n",
       "       [7.2, 3.2, 6. , 1.8],\n",
       "       [6.2, 2.8, 4.8, 1.8],\n",
       "       [6.1, 3. , 4.9, 1.8],\n",
       "       [6.4, 2.8, 5.6, 2.1],\n",
       "       [7.2, 3. , 5.8, 1.6],\n",
       "       [7.4, 2.8, 6.1, 1.9],\n",
       "       [7.9, 3.8, 6.4, 2. ],\n",
       "       [6.4, 2.8, 5.6, 2.2],\n",
       "       [6.3, 2.8, 5.1, 1.5],\n",
       "       [6.1, 2.6, 5.6, 1.4],\n",
       "       [7.7, 3. , 6.1, 2.3],\n",
       "       [6.3, 3.4, 5.6, 2.4],\n",
       "       [6.4, 3.1, 5.5, 1.8],\n",
       "       [6. , 3. , 4.8, 1.8],\n",
       "       [6.9, 3.1, 5.4, 2.1],\n",
       "       [6.7, 3.1, 5.6, 2.4],\n",
       "       [6.9, 3.1, 5.1, 2.3],\n",
       "       [5.8, 2.7, 5.1, 1.9],\n",
       "       [6.8, 3.2, 5.9, 2.3],\n",
       "       [6.7, 3.3, 5.7, 2.5],\n",
       "       [6.7, 3. , 5.2, 2.3],\n",
       "       [6.3, 2.5, 5. , 1.9],\n",
       "       [6.5, 3. , 5.2, 2. ],\n",
       "       [6.2, 3.4, 5.4, 2.3],\n",
       "       [5.9, 3. , 5.1, 1.8]])"
      ]
     },
     "execution_count": 13,
     "metadata": {},
     "output_type": "execute_result"
    }
   ],
   "source": [
    "x = df1.iloc[:,:-1].values\n",
    "y = df1.iloc[:,-1].values\n",
    "x"
   ]
  },
  {
   "cell_type": "code",
   "execution_count": 14,
   "id": "2032725d",
   "metadata": {},
   "outputs": [
    {
     "data": {
      "text/plain": [
       "array([0, 0, 0, 0, 0, 0, 0, 0, 0, 0, 0, 0, 0, 0, 0, 0, 0, 0, 0, 0, 0, 0,\n",
       "       0, 0, 0, 0, 0, 0, 0, 0, 0, 0, 0, 0, 0, 0, 0, 0, 0, 0, 0, 0, 0, 0,\n",
       "       0, 0, 0, 0, 0, 0, 1, 1, 1, 1, 1, 1, 1, 1, 1, 1, 1, 1, 1, 1, 1, 1,\n",
       "       1, 1, 1, 1, 1, 1, 1, 1, 1, 1, 1, 1, 1, 1, 1, 1, 1, 1, 1, 1, 1, 1,\n",
       "       1, 1, 1, 1, 1, 1, 1, 1, 1, 1, 1, 1, 2, 2, 2, 2, 2, 2, 2, 2, 2, 2,\n",
       "       2, 2, 2, 2, 2, 2, 2, 2, 2, 2, 2, 2, 2, 2, 2, 2, 2, 2, 2, 2, 2, 2,\n",
       "       2, 2, 2, 2, 2, 2, 2, 2, 2, 2, 2, 2, 2, 2, 2, 2, 2, 2], dtype=int64)"
      ]
     },
     "execution_count": 14,
     "metadata": {},
     "output_type": "execute_result"
    }
   ],
   "source": [
    "y"
   ]
  },
  {
   "cell_type": "markdown",
   "id": "6bb92d6d",
   "metadata": {},
   "source": [
    "## Visualisong the Input data"
   ]
  },
  {
   "cell_type": "code",
   "execution_count": 15,
   "id": "66dcb518",
   "metadata": {},
   "outputs": [
    {
     "data": {
      "image/png": "[encoded data removed]",
      "text/plain": [
       "<Figure size 504x360 with 1 Axes>"
      ]
     },
     "metadata": {
      "needs_background": "light"
     },
     "output_type": "display_data"
    }
   ],
   "source": [
    "#Plotting\n",
    "fig = plt.figure(1, figsize=(7,5))\n",
    "ax = Axes3D(fig, rect=[0, 0, 0.95, 1], elev=48, azim=134)\n",
    "ax.scatter(x[:, 3], x[:, 0], x[:, 2], edgecolor=\"k\", s=50)\n",
    "ax.set_xlabel(\"Petal width\")\n",
    "ax.set_ylabel(\"Sepal length\")\n",
    "ax.set_zlabel(\"Petal length\")\n",
    "plt.title(\"Iris Clustering K Means=3\", fontsize=14)\n",
    "plt.show()"
   ]
  },
  {
   "cell_type": "markdown",
   "id": "e969ee5c",
   "metadata": {},
   "source": [
    "## Finding the optimal numbers of K values by using 'ELBOW METHOD'"
   ]
  },
  {
   "cell_type": "code",
   "execution_count": 16,
   "id": "1acab7da",
   "metadata": {},
   "outputs": [
    {
     "name": "stderr",
     "output_type": "stream",
     "text": [
      "C:\\ProgramData\\Anaconda3\\lib\\site-packages\\sklearn\\cluster\\_kmeans.py:881: UserWarning: KMeans is known to have a memory leak on Windows with MKL, when there are less chunks than available threads. You can avoid it by setting the environment variable OMP_NUM_THREADS=1.\n",
      "  warnings.warn(\n"
     ]
    },
    {
     "data": {
      "text/plain": [
       "Text(0.5, 1.0, ' The Elbow Methd')"
      ]
     },
     "execution_count": 16,
     "metadata": {},
     "output_type": "execute_result"
    },
    {
     "data": {
      "image/png": "[encoded data removed]",
      "text/plain": [
       "<Figure size 432x288 with 1 Axes>"
      ]
     },
     "metadata": {
      "needs_background": "light"
     },
     "output_type": "display_data"
    }
   ],
   "source": [
    "from sklearn.cluster import KMeans\n",
    "wcss = []\n",
    "\n",
    "for i in range(1, 11):\n",
    "    kmeans = KMeans(n_clusters = i, init = 'k-means++', \n",
    "                    max_iter = 300, n_init = 10, random_state = 0)\n",
    "    kmeans.fit(x)\n",
    "    wcss.append(kmeans.inertia_)\n",
    "    \n",
    "# plot the result and observe  the elbow method \n",
    "plt.plot(range(1,11),wcss)\n",
    "plt.xlabel('Number of Cluster')\n",
    "plt.ylabel('Wcss')\n",
    "plt.title(\" The Elbow Methd\")\n"
   ]
  },
  {
   "cell_type": "code",
   "execution_count": null,
   "id": "d9cc97f7",
   "metadata": {},
   "outputs": [],
   "source": [
    "From the above graph its clearly see that why it is called \"Elbow Method\" because the look of graph is seen like Elbow.\n",
    "From that grap value of Wcss is decreases suddenly as number of clusters increases and it will decrease gradually at the edge of elbow then it remains constant \n",
    "So that from the above graph we choose the value of is 3 i.e k=3"
   ]
  },
  {
   "cell_type": "markdown",
   "id": "d5d5378f",
   "metadata": {},
   "source": [
    "So that from the above graph we choose the value of is 3 i.e k=3"
   ]
  },
  {
   "cell_type": "markdown",
   "id": "3eda91c1",
   "metadata": {},
   "source": [
    "## Data Scaling"
   ]
  },
  {
   "cell_type": "code",
   "execution_count": 58,
   "id": "d32b09e9",
   "metadata": {},
   "outputs": [],
   "source": [
    "from sklearn.preprocessing import StandardScaler\n",
    "scaler = StandardScaler()\n",
    "scaler.fit(x)\n",
    "fea_scaler = scaler.transform(x)"
   ]
  },
  {
   "cell_type": "code",
   "execution_count": 59,
   "id": "26095b44",
   "metadata": {},
   "outputs": [
    {
     "data": {
      "text/html": [
       "<div>\n",
       "<style scoped>\n",
       "    .dataframe tbody tr th:only-of-type {\n",
       "        vertical-align: middle;\n",
       "    }\n",
       "\n",
       "    .dataframe tbody tr th {\n",
       "        vertical-align: top;\n",
       "    }\n",
       "\n",
       "    .dataframe thead th {\n",
       "        text-align: right;\n",
       "    }\n",
       "</style>\n",
       "<table border=\"1\" class=\"dataframe\">\n",
       "  <thead>\n",
       "    <tr style=\"text-align: right;\">\n",
       "      <th></th>\n",
       "      <th>0</th>\n",
       "      <th>1</th>\n",
       "      <th>2</th>\n",
       "      <th>3</th>\n",
       "    </tr>\n",
       "  </thead>\n",
       "  <tbody>\n",
       "    <tr>\n",
       "      <th>0</th>\n",
       "      <td>-0.900681</td>\n",
       "      <td>1.032057</td>\n",
       "      <td>-1.341272</td>\n",
       "      <td>-1.312977</td>\n",
       "    </tr>\n",
       "    <tr>\n",
       "      <th>1</th>\n",
       "      <td>-1.143017</td>\n",
       "      <td>-0.124958</td>\n",
       "      <td>-1.341272</td>\n",
       "      <td>-1.312977</td>\n",
       "    </tr>\n",
       "    <tr>\n",
       "      <th>2</th>\n",
       "      <td>-1.385353</td>\n",
       "      <td>0.337848</td>\n",
       "      <td>-1.398138</td>\n",
       "      <td>-1.312977</td>\n",
       "    </tr>\n",
       "    <tr>\n",
       "      <th>3</th>\n",
       "      <td>-1.506521</td>\n",
       "      <td>0.106445</td>\n",
       "      <td>-1.284407</td>\n",
       "      <td>-1.312977</td>\n",
       "    </tr>\n",
       "    <tr>\n",
       "      <th>4</th>\n",
       "      <td>-1.021849</td>\n",
       "      <td>1.263460</td>\n",
       "      <td>-1.341272</td>\n",
       "      <td>-1.312977</td>\n",
       "    </tr>\n",
       "  </tbody>\n",
       "</table>\n",
       "</div>"
      ],
      "text/plain": [
       "          0         1         2         3\n",
       "0 -0.900681  1.032057 -1.341272 -1.312977\n",
       "1 -1.143017 -0.124958 -1.341272 -1.312977\n",
       "2 -1.385353  0.337848 -1.398138 -1.312977\n",
       "3 -1.506521  0.106445 -1.284407 -1.312977\n",
       "4 -1.021849  1.263460 -1.341272 -1.312977"
      ]
     },
     "execution_count": 59,
     "metadata": {},
     "output_type": "execute_result"
    }
   ],
   "source": [
    "scaled_features = pd.DataFrame(fea_scaler)\n",
    "df2 = scaled_features\n",
    "df2.head()"
   ]
  },
  {
   "cell_type": "markdown",
   "id": "7708e3c7",
   "metadata": {},
   "source": [
    "# Data Preprocessing"
   ]
  },
  {
   "cell_type": "code",
   "execution_count": 60,
   "id": "28b639f8",
   "metadata": {},
   "outputs": [],
   "source": [
    " x = df2.iloc[:,:-1].values\n",
    " y = df2.iloc[:,-1].values"
   ]
  },
  {
   "cell_type": "code",
   "execution_count": 61,
   "id": "e1f86f2f",
   "metadata": {},
   "outputs": [
    {
     "data": {
      "text/plain": [
       "array([[-0.90068117,  1.03205722, -1.3412724 ],\n",
       "       [-1.14301691, -0.1249576 , -1.3412724 ],\n",
       "       [-1.38535265,  0.33784833, -1.39813811],\n",
       "       [-1.50652052,  0.10644536, -1.2844067 ],\n",
       "       [-1.02184904,  1.26346019, -1.3412724 ],\n",
       "       [-0.53717756,  1.95766909, -1.17067529],\n",
       "       [-1.50652052,  0.80065426, -1.3412724 ],\n",
       "       [-1.02184904,  0.80065426, -1.2844067 ],\n",
       "       [-1.74885626, -0.35636057, -1.3412724 ],\n",
       "       [-1.14301691,  0.10644536, -1.2844067 ],\n",
       "       [-0.53717756,  1.49486315, -1.2844067 ],\n",
       "       [-1.26418478,  0.80065426, -1.227541  ],\n",
       "       [-1.26418478, -0.1249576 , -1.3412724 ],\n",
       "       [-1.87002413, -0.1249576 , -1.51186952],\n",
       "       [-0.05250608,  2.18907205, -1.45500381],\n",
       "       [-0.17367395,  3.11468391, -1.2844067 ],\n",
       "       [-0.53717756,  1.95766909, -1.39813811],\n",
       "       [-0.90068117,  1.03205722, -1.3412724 ],\n",
       "       [-0.17367395,  1.72626612, -1.17067529],\n",
       "       [-0.90068117,  1.72626612, -1.2844067 ],\n",
       "       [-0.53717756,  0.80065426, -1.17067529],\n",
       "       [-0.90068117,  1.49486315, -1.2844067 ],\n",
       "       [-1.50652052,  1.26346019, -1.56873522],\n",
       "       [-0.90068117,  0.56925129, -1.17067529],\n",
       "       [-1.26418478,  0.80065426, -1.05694388],\n",
       "       [-1.02184904, -0.1249576 , -1.227541  ],\n",
       "       [-1.02184904,  0.80065426, -1.227541  ],\n",
       "       [-0.7795133 ,  1.03205722, -1.2844067 ],\n",
       "       [-0.7795133 ,  0.80065426, -1.3412724 ],\n",
       "       [-1.38535265,  0.33784833, -1.227541  ],\n",
       "       [-1.26418478,  0.10644536, -1.227541  ],\n",
       "       [-0.53717756,  0.80065426, -1.2844067 ],\n",
       "       [-0.7795133 ,  2.42047502, -1.2844067 ],\n",
       "       [-0.41600969,  2.65187798, -1.3412724 ],\n",
       "       [-1.14301691,  0.10644536, -1.2844067 ],\n",
       "       [-1.02184904,  0.33784833, -1.45500381],\n",
       "       [-0.41600969,  1.03205722, -1.39813811],\n",
       "       [-1.14301691,  0.10644536, -1.2844067 ],\n",
       "       [-1.74885626, -0.1249576 , -1.39813811],\n",
       "       [-0.90068117,  0.80065426, -1.2844067 ],\n",
       "       [-1.02184904,  1.03205722, -1.39813811],\n",
       "       [-1.62768839, -1.74477836, -1.39813811],\n",
       "       [-1.74885626,  0.33784833, -1.39813811],\n",
       "       [-1.02184904,  1.03205722, -1.227541  ],\n",
       "       [-0.90068117,  1.72626612, -1.05694388],\n",
       "       [-1.26418478, -0.1249576 , -1.3412724 ],\n",
       "       [-0.90068117,  1.72626612, -1.227541  ],\n",
       "       [-1.50652052,  0.33784833, -1.3412724 ],\n",
       "       [-0.65834543,  1.49486315, -1.2844067 ],\n",
       "       [-1.02184904,  0.56925129, -1.3412724 ],\n",
       "       [ 1.40150837,  0.33784833,  0.53529583],\n",
       "       [ 0.67450115,  0.33784833,  0.42156442],\n",
       "       [ 1.2803405 ,  0.10644536,  0.64902723],\n",
       "       [-0.41600969, -1.74477836,  0.1372359 ],\n",
       "       [ 0.79566902, -0.58776353,  0.47843012],\n",
       "       [-0.17367395, -0.58776353,  0.42156442],\n",
       "       [ 0.55333328,  0.56925129,  0.53529583],\n",
       "       [-1.14301691, -1.51337539, -0.26082403],\n",
       "       [ 0.91683689, -0.35636057,  0.47843012],\n",
       "       [-0.7795133 , -0.8191665 ,  0.08037019],\n",
       "       [-1.02184904, -2.43898725, -0.14709262],\n",
       "       [ 0.06866179, -0.1249576 ,  0.25096731],\n",
       "       [ 0.18982966, -1.97618132,  0.1372359 ],\n",
       "       [ 0.31099753, -0.35636057,  0.53529583],\n",
       "       [-0.29484182, -0.35636057, -0.09022692],\n",
       "       [ 1.03800476,  0.10644536,  0.36469871],\n",
       "       [-0.29484182, -0.1249576 ,  0.42156442],\n",
       "       [-0.05250608, -0.8191665 ,  0.1941016 ],\n",
       "       [ 0.4321654 , -1.97618132,  0.42156442],\n",
       "       [-0.29484182, -1.28197243,  0.08037019],\n",
       "       [ 0.06866179,  0.33784833,  0.59216153],\n",
       "       [ 0.31099753, -0.58776353,  0.1372359 ],\n",
       "       [ 0.55333328, -1.28197243,  0.64902723],\n",
       "       [ 0.31099753, -0.58776353,  0.53529583],\n",
       "       [ 0.67450115, -0.35636057,  0.30783301],\n",
       "       [ 0.91683689, -0.1249576 ,  0.36469871],\n",
       "       [ 1.15917263, -0.58776353,  0.59216153],\n",
       "       [ 1.03800476, -0.1249576 ,  0.70589294],\n",
       "       [ 0.18982966, -0.35636057,  0.42156442],\n",
       "       [-0.17367395, -1.05056946, -0.14709262],\n",
       "       [-0.41600969, -1.51337539,  0.02350449],\n",
       "       [-0.41600969, -1.51337539, -0.03336121],\n",
       "       [-0.05250608, -0.8191665 ,  0.08037019],\n",
       "       [ 0.18982966, -0.8191665 ,  0.76275864],\n",
       "       [-0.53717756, -0.1249576 ,  0.42156442],\n",
       "       [ 0.18982966,  0.80065426,  0.42156442],\n",
       "       [ 1.03800476,  0.10644536,  0.53529583],\n",
       "       [ 0.55333328, -1.74477836,  0.36469871],\n",
       "       [-0.29484182, -0.1249576 ,  0.1941016 ],\n",
       "       [-0.41600969, -1.28197243,  0.1372359 ],\n",
       "       [-0.41600969, -1.05056946,  0.36469871],\n",
       "       [ 0.31099753, -0.1249576 ,  0.47843012],\n",
       "       [-0.05250608, -1.05056946,  0.1372359 ],\n",
       "       [-1.02184904, -1.74477836, -0.26082403],\n",
       "       [-0.29484182, -0.8191665 ,  0.25096731],\n",
       "       [-0.17367395, -0.1249576 ,  0.25096731],\n",
       "       [-0.17367395, -0.35636057,  0.25096731],\n",
       "       [ 0.4321654 , -0.35636057,  0.30783301],\n",
       "       [-0.90068117, -1.28197243, -0.43142114],\n",
       "       [-0.17367395, -0.58776353,  0.1941016 ],\n",
       "       [ 0.55333328,  0.56925129,  1.27454998],\n",
       "       [-0.05250608, -0.8191665 ,  0.76275864],\n",
       "       [ 1.52267624, -0.1249576 ,  1.21768427],\n",
       "       [ 0.55333328, -0.35636057,  1.04708716],\n",
       "       [ 0.79566902, -0.1249576 ,  1.16081857],\n",
       "       [ 2.12851559, -0.1249576 ,  1.6157442 ],\n",
       "       [-1.14301691, -1.28197243,  0.42156442],\n",
       "       [ 1.76501198, -0.35636057,  1.44514709],\n",
       "       [ 1.03800476, -1.28197243,  1.16081857],\n",
       "       [ 1.64384411,  1.26346019,  1.33141568],\n",
       "       [ 0.79566902,  0.33784833,  0.76275864],\n",
       "       [ 0.67450115, -0.8191665 ,  0.87649005],\n",
       "       [ 1.15917263, -0.1249576 ,  0.99022146],\n",
       "       [-0.17367395, -1.28197243,  0.70589294],\n",
       "       [-0.05250608, -0.58776353,  0.76275864],\n",
       "       [ 0.67450115,  0.33784833,  0.87649005],\n",
       "       [ 0.79566902, -0.1249576 ,  0.99022146],\n",
       "       [ 2.24968346,  1.72626612,  1.67260991],\n",
       "       [ 2.24968346, -1.05056946,  1.78634131],\n",
       "       [ 0.18982966, -1.97618132,  0.70589294],\n",
       "       [ 1.2803405 ,  0.33784833,  1.10395287],\n",
       "       [-0.29484182, -0.58776353,  0.64902723],\n",
       "       [ 2.24968346, -0.58776353,  1.67260991],\n",
       "       [ 0.55333328, -0.8191665 ,  0.64902723],\n",
       "       [ 1.03800476,  0.56925129,  1.10395287],\n",
       "       [ 1.64384411,  0.33784833,  1.27454998],\n",
       "       [ 0.4321654 , -0.58776353,  0.59216153],\n",
       "       [ 0.31099753, -0.1249576 ,  0.64902723],\n",
       "       [ 0.67450115, -0.58776353,  1.04708716],\n",
       "       [ 1.64384411, -0.1249576 ,  1.16081857],\n",
       "       [ 1.88617985, -0.58776353,  1.33141568],\n",
       "       [ 2.4920192 ,  1.72626612,  1.50201279],\n",
       "       [ 0.67450115, -0.58776353,  1.04708716],\n",
       "       [ 0.55333328, -0.58776353,  0.76275864],\n",
       "       [ 0.31099753, -1.05056946,  1.04708716],\n",
       "       [ 2.24968346, -0.1249576 ,  1.33141568],\n",
       "       [ 0.55333328,  0.80065426,  1.04708716],\n",
       "       [ 0.67450115,  0.10644536,  0.99022146],\n",
       "       [ 0.18982966, -0.1249576 ,  0.59216153],\n",
       "       [ 1.2803405 ,  0.10644536,  0.93335575],\n",
       "       [ 1.03800476,  0.10644536,  1.04708716],\n",
       "       [ 1.2803405 ,  0.10644536,  0.76275864],\n",
       "       [-0.05250608, -0.8191665 ,  0.76275864],\n",
       "       [ 1.15917263,  0.33784833,  1.21768427],\n",
       "       [ 1.03800476,  0.56925129,  1.10395287],\n",
       "       [ 1.03800476, -0.1249576 ,  0.81962435],\n",
       "       [ 0.55333328, -1.28197243,  0.70589294],\n",
       "       [ 0.79566902, -0.1249576 ,  0.81962435],\n",
       "       [ 0.4321654 ,  0.80065426,  0.93335575],\n",
       "       [ 0.06866179, -0.1249576 ,  0.76275864]])"
      ]
     },
     "execution_count": 61,
     "metadata": {},
     "output_type": "execute_result"
    }
   ],
   "source": [
    "x"
   ]
  },
  {
   "cell_type": "code",
   "execution_count": 62,
   "id": "cb4b57d1",
   "metadata": {},
   "outputs": [
    {
     "data": {
      "text/plain": [
       "array([-1.31297673, -1.31297673, -1.31297673, -1.31297673, -1.31297673,\n",
       "       -1.05003079, -1.18150376, -1.31297673, -1.31297673, -1.4444497 ,\n",
       "       -1.31297673, -1.31297673, -1.4444497 , -1.4444497 , -1.31297673,\n",
       "       -1.05003079, -1.05003079, -1.18150376, -1.18150376, -1.18150376,\n",
       "       -1.31297673, -1.05003079, -1.31297673, -0.91855782, -1.31297673,\n",
       "       -1.31297673, -1.05003079, -1.31297673, -1.31297673, -1.31297673,\n",
       "       -1.31297673, -1.05003079, -1.4444497 , -1.31297673, -1.4444497 ,\n",
       "       -1.31297673, -1.31297673, -1.4444497 , -1.31297673, -1.31297673,\n",
       "       -1.18150376, -1.18150376, -1.31297673, -0.78708485, -1.05003079,\n",
       "       -1.18150376, -1.31297673, -1.31297673, -1.31297673, -1.31297673,\n",
       "        0.26469891,  0.39617188,  0.39617188,  0.13322594,  0.39617188,\n",
       "        0.13322594,  0.52764485, -0.26119297,  0.13322594,  0.26469891,\n",
       "       -0.26119297,  0.39617188, -0.26119297,  0.26469891,  0.13322594,\n",
       "        0.26469891,  0.39617188, -0.26119297,  0.39617188, -0.12972   ,\n",
       "        0.79059079,  0.13322594,  0.39617188,  0.00175297,  0.13322594,\n",
       "        0.26469891,  0.26469891,  0.65911782,  0.39617188, -0.26119297,\n",
       "       -0.12972   , -0.26119297,  0.00175297,  0.52764485,  0.39617188,\n",
       "        0.52764485,  0.39617188,  0.13322594,  0.13322594,  0.13322594,\n",
       "        0.00175297,  0.26469891,  0.00175297, -0.26119297,  0.13322594,\n",
       "        0.00175297,  0.13322594,  0.13322594, -0.12972   ,  0.13322594,\n",
       "        1.71090158,  0.92206376,  1.1850097 ,  0.79059079,  1.31648267,\n",
       "        1.1850097 ,  0.65911782,  0.79059079,  0.79059079,  1.71090158,\n",
       "        1.05353673,  0.92206376,  1.1850097 ,  1.05353673,  1.57942861,\n",
       "        1.44795564,  0.79059079,  1.31648267,  1.44795564,  0.39617188,\n",
       "        1.44795564,  1.05353673,  1.05353673,  0.79059079,  1.1850097 ,\n",
       "        0.79059079,  0.79059079,  0.79059079,  1.1850097 ,  0.52764485,\n",
       "        0.92206376,  1.05353673,  1.31648267,  0.39617188,  0.26469891,\n",
       "        1.44795564,  1.57942861,  0.79059079,  0.79059079,  1.1850097 ,\n",
       "        1.57942861,  1.44795564,  0.92206376,  1.44795564,  1.71090158,\n",
       "        1.44795564,  0.92206376,  1.05353673,  1.44795564,  0.79059079])"
      ]
     },
     "execution_count": 62,
     "metadata": {},
     "output_type": "execute_result"
    }
   ],
   "source": [
    "y"
   ]
  },
  {
   "cell_type": "markdown",
   "id": "edf6a647",
   "metadata": {},
   "source": [
    "# Traing The Model\n"
   ]
  },
  {
   "cell_type": "code",
   "execution_count": 63,
   "id": "dc58448f",
   "metadata": {},
   "outputs": [
    {
     "data": {
      "text/plain": [
       "KMeans(n_clusters=3)"
      ]
     },
     "execution_count": 63,
     "metadata": {},
     "output_type": "execute_result"
    }
   ],
   "source": [
    "iris_kmeans_model = KMeans(n_clusters =3)\n",
    "iris_kmeans_model.fit(x)"
   ]
  },
  {
   "cell_type": "code",
   "execution_count": 64,
   "id": "ab9b94a2",
   "metadata": {},
   "outputs": [
    {
     "data": {
      "text/plain": [
       "array([0, 0, 0, 0, 0, 0, 0, 0, 0, 0, 0, 0, 0, 0, 0, 0, 0, 0, 0, 0, 0, 0,\n",
       "       0, 0, 0, 0, 0, 0, 0, 0, 0, 0, 0, 0, 0, 0, 0, 0, 0, 0, 0, 1, 0, 0,\n",
       "       0, 0, 0, 0, 0, 0, 2, 2, 2, 1, 2, 1, 2, 1, 2, 1, 1, 1, 1, 1, 1, 2,\n",
       "       1, 1, 1, 1, 2, 1, 1, 1, 2, 2, 2, 2, 1, 1, 1, 1, 1, 1, 1, 2, 2, 1,\n",
       "       1, 1, 1, 2, 1, 1, 1, 1, 1, 1, 1, 1, 2, 1, 2, 2, 2, 2, 1, 2, 2, 2,\n",
       "       2, 2, 2, 1, 1, 2, 2, 2, 2, 1, 2, 1, 2, 1, 2, 2, 1, 2, 2, 2, 2, 2,\n",
       "       2, 2, 1, 2, 2, 2, 1, 2, 2, 2, 1, 2, 2, 2, 1, 2, 2, 1])"
      ]
     },
     "execution_count": 64,
     "metadata": {},
     "output_type": "execute_result"
    }
   ],
   "source": [
    "y_pred = iris_kmeans_model.fit_predict(x)\n",
    "y_pred"
   ]
  },
  {
   "cell_type": "code",
   "execution_count": 65,
   "id": "4857a3d5",
   "metadata": {},
   "outputs": [
    {
     "name": "stdout",
     "output_type": "stream",
     "text": [
      "[[-1.00206653  0.89510445 -1.30297509]\n",
      " [-0.15389144 -0.94667425  0.29622777]\n",
      " [ 1.08926809  0.04859462  0.94866575]]\n"
     ]
    }
   ],
   "source": [
    "print(iris_kmeans_model.cluster_centers_)"
   ]
  },
  {
   "cell_type": "markdown",
   "id": "0984e53a",
   "metadata": {},
   "source": [
    "## Now Visualizing The Model Cluster"
   ]
  },
  {
   "cell_type": "code",
   "execution_count": 68,
   "id": "20baabf4",
   "metadata": {},
   "outputs": [
    {
     "data": {
      "image/png": "[encoded data removed]",
      "text/plain": [
       "<Figure size 432x432 with 1 Axes>"
      ]
     },
     "metadata": {
      "needs_background": "light"
     },
     "output_type": "display_data"
    }
   ],
   "source": [
    "plt.figure(figsize=(6,6))\n",
    "plt.scatter(x[y_pred==0,0],x[y_pred==0,1],s=100,c='red',label='Iris-setosa')\n",
    "plt.scatter(x[y_pred==1,0],x[y_pred==1,1],s=100,c='blue',label='Iris-versicolor')\n",
    "plt.scatter(x[y_pred==2,0],x[y_pred==2,1],s=100,c='yellow',label='Iris-virginica')\n",
    "\n",
    "plt.scatter(iris_kmeans_model.cluster_centers_[:,0],iris_kmeans_model.cluster_centers_[:,1],s=100,c='black',marker='*', label = 'Centroids')\n",
    "\n",
    "plt.title('Iris Flower Clusters')\n",
    "plt.xlabel('Sepal Length')\n",
    "plt.ylabel('Petal Length')\n",
    "plt.legend()\n",
    "plt.show()\n"
   ]
  },
  {
   "cell_type": "code",
   "execution_count": null,
   "id": "27390317",
   "metadata": {},
   "outputs": [],
   "source": []
  },
  {
   "cell_type": "code",
   "execution_count": null,
   "id": "9b0dc01b",
   "metadata": {},
   "outputs": [],
   "source": []
  }
 ],
 "metadata": {
  "kernelspec": {
   "display_name": "Python 3",
   "language": "python",
   "name": "python3"
  },
  "language_info": {
   "codemirror_mode": {
    "name": "ipython",
    "version": 3
   },
   "file_extension": ".py",
   "mimetype": "text/x-python",
   "name": "python",
   "nbconvert_exporter": "python",
   "pygments_lexer": "ipython3",
   "version": "3.8.8"
  }
 },
 "nbformat": 4,
 "nbformat_minor": 5
}
